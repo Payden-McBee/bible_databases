{
 "cells": [
  {
   "cell_type": "code",
   "execution_count": null,
   "metadata": {
    "colab": {
     "base_uri": "https://localhost:8080/"
    },
    "id": "78OoGr1h_z4p",
    "outputId": "12689502-7437-40fc-89fc-ee2124530eb2"
   },
   "outputs": [
    {
     "name": "stdout",
     "output_type": "stream",
     "text": [
      "Cloning into 'bible_databases'...\n",
      "remote: Enumerating objects: 1585, done.\u001b[K\n",
      "remote: Counting objects: 100% (64/64), done.\u001b[K\n",
      "remote: Compressing objects: 100% (50/50), done.\u001b[K\n",
      "remote: Total 1585 (delta 19), reused 40 (delta 11), pack-reused 1521\u001b[K\n",
      "Receiving objects: 100% (1585/1585), 164.14 MiB | 20.58 MiB/s, done.\n",
      "Resolving deltas: 100% (503/503), done.\n",
      "Checking out files: 100% (800/800), done.\n"
     ]
    }
   ],
   "source": [
    "! git clone https://github.com/scrollmapper/bible_databases.git"
   ]
  },
  {
   "cell_type": "code",
   "execution_count": null,
   "metadata": {
    "colab": {
     "base_uri": "https://localhost:8080/"
    },
    "id": "XLqF3XGx_5Xk",
    "outputId": "75dfb03f-7ba4-4cd5-8850-35b3d81a985e"
   },
   "outputs": [
    {
     "name": "stdout",
     "output_type": "stream",
     "text": [
      "/content/bible_databases\n"
     ]
    }
   ],
   "source": [
    "cd /content/bible_databases/"
   ]
  },
  {
   "cell_type": "markdown",
   "metadata": {
    "id": "MKpH0_ThD_pk"
   },
   "source": [
    "## Import Libraries"
   ]
  },
  {
   "cell_type": "code",
   "execution_count": 2,
   "metadata": {
    "id": "prBZR8BqACjS"
   },
   "outputs": [],
   "source": [
    "import re\n",
    "import requests\n",
    "import seaborn as sb\n",
    "import matplotlib.pyplot as plt\n",
    "from collections import Counter\n",
    "from nltk.corpus import stopwords\n",
    "import pandas as pd\n",
    "import numpy as np\n",
    "from glob import glob\n",
    "import nltk"
   ]
  },
  {
   "cell_type": "code",
   "execution_count": 3,
   "metadata": {
    "colab": {
     "base_uri": "https://localhost:8080/"
    },
    "id": "_sHFm7nBAC9h",
    "outputId": "7a4e963d-d7a5-480b-d275-53467570f5c2"
   },
   "outputs": [
    {
     "name": "stderr",
     "output_type": "stream",
     "text": [
      "[nltk_data] Downloading package punkt to\n",
      "[nltk_data]     C:\\Users\\pmcbe\\AppData\\Roaming\\nltk_data...\n",
      "[nltk_data]   Package punkt is already up-to-date!\n",
      "[nltk_data] Downloading package averaged_perceptron_tagger to\n",
      "[nltk_data]     C:\\Users\\pmcbe\\AppData\\Roaming\\nltk_data...\n",
      "[nltk_data]   Package averaged_perceptron_tagger is already up-to-\n",
      "[nltk_data]       date!\n",
      "[nltk_data] Downloading package stopwords to\n",
      "[nltk_data]     C:\\Users\\pmcbe\\AppData\\Roaming\\nltk_data...\n",
      "[nltk_data]   Package stopwords is already up-to-date!\n",
      "[nltk_data] Downloading package tagsets to\n",
      "[nltk_data]     C:\\Users\\pmcbe\\AppData\\Roaming\\nltk_data...\n",
      "[nltk_data]   Package tagsets is already up-to-date!\n"
     ]
    },
    {
     "data": {
      "text/plain": [
       "True"
      ]
     },
     "execution_count": 3,
     "metadata": {},
     "output_type": "execute_result"
    }
   ],
   "source": [
    "nltk.download('punkt')\n",
    "nltk.download('averaged_perceptron_tagger')\n",
    "nltk.download('stopwords')\n",
    "nltk.download('tagsets')"
   ]
  },
  {
   "cell_type": "code",
   "execution_count": 4,
   "metadata": {
    "id": "vH5mhpTqAEyN"
   },
   "outputs": [],
   "source": [
    "# These stopwords are commonly used words in the English language\n",
    "STOPWORDS = {re.sub(r'[^\\w\\s]', '', word) for word in stopwords.words('english')} #this line is one I found online \n",
    "# how to add other stopwords\n",
    "STOPWORDS.add(\"microelectronical\")"
   ]
  },
  {
   "cell_type": "markdown",
   "metadata": {
    "id": "OgxXpx8-EKZw"
   },
   "source": [
    "## Import TOKENS, VOCAB, and LIB"
   ]
  },
  {
   "cell_type": "code",
   "execution_count": 4,
   "metadata": {
    "colab": {
     "base_uri": "https://localhost:8080/"
    },
    "id": "An3Bd4EAZhOD",
    "outputId": "8844f355-47b3-4c8e-f9dc-ea73b2e176c8"
   },
   "outputs": [
    {
     "name": "stdout",
     "output_type": "stream",
     "text": [
      "Mounted at /content/drive\n"
     ]
    }
   ],
   "source": [
    "from google.colab import drive\n",
    "drive.mount('/content/drive')"
   ]
  },
  {
   "cell_type": "code",
   "execution_count": 6,
   "metadata": {
    "colab": {
     "base_uri": "https://localhost:8080/"
    },
    "id": "czL239E4ZnIP",
    "outputId": "1a7cb6b0-59a3-4a90-b6c1-6af84ffe0833"
   },
   "outputs": [
    {
     "name": "stdout",
     "output_type": "stream",
     "text": [
      "/content/drive/MyDrive/DS5001/Proj\n"
     ]
    }
   ],
   "source": [
    "cd /content/drive/MyDrive/DS5001/Proj/"
   ]
  },
  {
   "cell_type": "code",
   "execution_count": 5,
   "metadata": {
    "id": "dBxUTFBOZ7EU"
   },
   "outputs": [],
   "source": [
    "data_in = './data_in/'"
   ]
  },
  {
   "cell_type": "code",
   "execution_count": 6,
   "metadata": {
    "colab": {
     "base_uri": "https://localhost:8080/",
     "height": 225
    },
    "id": "71ez2-uyZ6Sr",
    "outputId": "2596ce79-4ead-4f1b-ec4e-d6f5df08af8f"
   },
   "outputs": [
    {
     "data": {
      "text/html": [
       "<div>\n",
       "<style scoped>\n",
       "    .dataframe tbody tr th:only-of-type {\n",
       "        vertical-align: middle;\n",
       "    }\n",
       "\n",
       "    .dataframe tbody tr th {\n",
       "        vertical-align: top;\n",
       "    }\n",
       "\n",
       "    .dataframe thead th {\n",
       "        text-align: right;\n",
       "    }\n",
       "</style>\n",
       "<table border=\"1\" class=\"dataframe\">\n",
       "  <thead>\n",
       "    <tr style=\"text-align: right;\">\n",
       "      <th></th>\n",
       "      <th>term_id</th>\n",
       "      <th>n</th>\n",
       "      <th>stop</th>\n",
       "    </tr>\n",
       "    <tr>\n",
       "      <th>term_str</th>\n",
       "      <th></th>\n",
       "      <th></th>\n",
       "      <th></th>\n",
       "    </tr>\n",
       "  </thead>\n",
       "  <tbody>\n",
       "    <tr>\n",
       "      <th>the</th>\n",
       "      <td>0</td>\n",
       "      <td>58763</td>\n",
       "      <td>1</td>\n",
       "    </tr>\n",
       "    <tr>\n",
       "      <th>and</th>\n",
       "      <td>1</td>\n",
       "      <td>51839</td>\n",
       "      <td>1</td>\n",
       "    </tr>\n",
       "    <tr>\n",
       "      <th>of</th>\n",
       "      <td>2</td>\n",
       "      <td>34239</td>\n",
       "      <td>1</td>\n",
       "    </tr>\n",
       "    <tr>\n",
       "      <th>to</th>\n",
       "      <td>3</td>\n",
       "      <td>13646</td>\n",
       "      <td>1</td>\n",
       "    </tr>\n",
       "    <tr>\n",
       "      <th>that</th>\n",
       "      <td>4</td>\n",
       "      <td>13498</td>\n",
       "      <td>1</td>\n",
       "    </tr>\n",
       "  </tbody>\n",
       "</table>\n",
       "</div>"
      ],
      "text/plain": [
       "          term_id      n  stop\n",
       "term_str                      \n",
       "the             0  58763     1\n",
       "and             1  51839     1\n",
       "of              2  34239     1\n",
       "to              3  13646     1\n",
       "that            4  13498     1"
      ]
     },
     "execution_count": 6,
     "metadata": {},
     "output_type": "execute_result"
    }
   ],
   "source": [
    "VOCAB_bible = pd.read_csv('{}/bible_vocab.csv'.format(data_in)).set_index('term_str')\n",
    "VOCAB_bible.head()"
   ]
  },
  {
   "cell_type": "code",
   "execution_count": 19,
   "metadata": {
    "colab": {
     "base_uri": "https://localhost:8080/",
     "height": 225
    },
    "id": "FAIET4BqAIY1",
    "outputId": "ac9393d3-ae96-48d5-e147-feb522af4030"
   },
   "outputs": [
    {
     "data": {
      "text/html": [
       "<div>\n",
       "<style scoped>\n",
       "    .dataframe tbody tr th:only-of-type {\n",
       "        vertical-align: middle;\n",
       "    }\n",
       "\n",
       "    .dataframe tbody tr th {\n",
       "        vertical-align: top;\n",
       "    }\n",
       "\n",
       "    .dataframe thead th {\n",
       "        text-align: right;\n",
       "    }\n",
       "</style>\n",
       "<table border=\"1\" class=\"dataframe\">\n",
       "  <thead>\n",
       "    <tr style=\"text-align: right;\">\n",
       "      <th></th>\n",
       "      <th></th>\n",
       "      <th></th>\n",
       "      <th></th>\n",
       "      <th>pos</th>\n",
       "      <th>token_str</th>\n",
       "      <th>term_str</th>\n",
       "    </tr>\n",
       "    <tr>\n",
       "      <th>author</th>\n",
       "      <th>book</th>\n",
       "      <th>sent</th>\n",
       "      <th>token_num</th>\n",
       "      <th></th>\n",
       "      <th></th>\n",
       "      <th></th>\n",
       "    </tr>\n",
       "  </thead>\n",
       "  <tbody>\n",
       "    <tr>\n",
       "      <th rowspan=\"5\" valign=\"top\">God</th>\n",
       "      <th rowspan=\"5\" valign=\"top\">Genesis</th>\n",
       "      <th rowspan=\"5\" valign=\"top\">0</th>\n",
       "      <th>0</th>\n",
       "      <td>IN</td>\n",
       "      <td>In</td>\n",
       "      <td>in</td>\n",
       "    </tr>\n",
       "    <tr>\n",
       "      <th>1</th>\n",
       "      <td>DT</td>\n",
       "      <td>the</td>\n",
       "      <td>the</td>\n",
       "    </tr>\n",
       "    <tr>\n",
       "      <th>2</th>\n",
       "      <td>NN</td>\n",
       "      <td>beginning</td>\n",
       "      <td>beginning</td>\n",
       "    </tr>\n",
       "    <tr>\n",
       "      <th>3</th>\n",
       "      <td>NNP</td>\n",
       "      <td>God</td>\n",
       "      <td>god</td>\n",
       "    </tr>\n",
       "    <tr>\n",
       "      <th>4</th>\n",
       "      <td>VBD</td>\n",
       "      <td>created</td>\n",
       "      <td>created</td>\n",
       "    </tr>\n",
       "  </tbody>\n",
       "</table>\n",
       "</div>"
      ],
      "text/plain": [
       "                               pos  token_str   term_str\n",
       "author book    sent token_num                           \n",
       "God    Genesis 0    0           IN         In         in\n",
       "                    1           DT        the        the\n",
       "                    2           NN  beginning  beginning\n",
       "                    3          NNP        God        god\n",
       "                    4          VBD    created    created"
      ]
     },
     "execution_count": 19,
     "metadata": {},
     "output_type": "execute_result"
    }
   ],
   "source": [
    "bible_tokens = pd.read_csv('{}/bible_tokens.csv'.format(data_in)).set_index(['author','book','sent','token_num'])\n",
    "bible_tokens['term_str'] = bible_tokens.token_str.replace(r'\\W+', '', regex=True).str.lower()\n",
    "bible_tokens.head()"
   ]
  },
  {
   "cell_type": "code",
   "execution_count": 28,
   "metadata": {
    "colab": {
     "base_uri": "https://localhost:8080/",
     "height": 225
    },
    "id": "vLhozV98ANzf",
    "outputId": "3773195f-42bb-4418-a7fe-a876a86a6009",
    "scrolled": true
   },
   "outputs": [
    {
     "name": "stdout",
     "output_type": "stream",
     "text": [
      "(4022103, 3)\n"
     ]
    },
    {
     "data": {
      "text/html": [
       "<div>\n",
       "<style scoped>\n",
       "    .dataframe tbody tr th:only-of-type {\n",
       "        vertical-align: middle;\n",
       "    }\n",
       "\n",
       "    .dataframe tbody tr th {\n",
       "        vertical-align: top;\n",
       "    }\n",
       "\n",
       "    .dataframe thead th {\n",
       "        text-align: right;\n",
       "    }\n",
       "</style>\n",
       "<table border=\"1\" class=\"dataframe\">\n",
       "  <thead>\n",
       "    <tr style=\"text-align: right;\">\n",
       "      <th></th>\n",
       "      <th></th>\n",
       "      <th></th>\n",
       "      <th></th>\n",
       "      <th>pos</th>\n",
       "      <th>token_str</th>\n",
       "      <th>term_str</th>\n",
       "    </tr>\n",
       "    <tr>\n",
       "      <th>author</th>\n",
       "      <th>book</th>\n",
       "      <th>sent</th>\n",
       "      <th>token_num</th>\n",
       "      <th></th>\n",
       "      <th></th>\n",
       "      <th></th>\n",
       "    </tr>\n",
       "  </thead>\n",
       "  <tbody>\n",
       "    <tr>\n",
       "      <th rowspan=\"5\" valign=\"top\">William McKinley</th>\n",
       "      <th rowspan=\"5\" valign=\"top\">Second Annual Message</th>\n",
       "      <th rowspan=\"5\" valign=\"top\">0</th>\n",
       "      <th>0</th>\n",
       "      <td>TO</td>\n",
       "      <td>To</td>\n",
       "      <td>to</td>\n",
       "    </tr>\n",
       "    <tr>\n",
       "      <th>1</th>\n",
       "      <td>DT</td>\n",
       "      <td>the</td>\n",
       "      <td>the</td>\n",
       "    </tr>\n",
       "    <tr>\n",
       "      <th>2</th>\n",
       "      <td>NNP</td>\n",
       "      <td>Senate</td>\n",
       "      <td>senate</td>\n",
       "    </tr>\n",
       "    <tr>\n",
       "      <th>3</th>\n",
       "      <td>CC</td>\n",
       "      <td>and</td>\n",
       "      <td>and</td>\n",
       "    </tr>\n",
       "    <tr>\n",
       "      <th>4</th>\n",
       "      <td>NNP</td>\n",
       "      <td>House</td>\n",
       "      <td>house</td>\n",
       "    </tr>\n",
       "  </tbody>\n",
       "</table>\n",
       "</div>"
      ],
      "text/plain": [
       "                                                        pos token_str term_str\n",
       "author           book                   sent token_num                        \n",
       "William McKinley  Second Annual Message 0    0           TO        To       to\n",
       "                                             1           DT       the      the\n",
       "                                             2          NNP    Senate   senate\n",
       "                                             3           CC       and      and\n",
       "                                             4          NNP     House    house"
      ]
     },
     "execution_count": 28,
     "metadata": {},
     "output_type": "execute_result"
    }
   ],
   "source": [
    "speeches_tokens = pd.read_csv('{}/speeches_tokens.csv'.format(data_in)).set_index(['author','book','sent','token_num'])\n",
    "print(speeches_tokens.shape)\n",
    "speeches_tokens.head()"
   ]
  },
  {
   "cell_type": "code",
   "execution_count": 29,
   "metadata": {},
   "outputs": [
    {
     "data": {
      "text/plain": [
       "array(['William McKinley', 'Grover Cleveland', 'Ulysses S. Grant',\n",
       "       'George Washington', 'Jimmy Carter', 'Ronald Reagan',\n",
       "       'Gerald Ford', 'Woodrow Wilson', 'Calvin Coolidge',\n",
       "       'Warren G. Harding', 'Chester A. Arthur', 'Thomas Jefferson',\n",
       "       'John Adams', 'Andrew Jackson', 'John Quincy Adams',\n",
       "       'James Monroe', 'Lyndon B. Johnson', 'Dwight D. Eisenhower',\n",
       "       'Harry S. Truman', 'Richard M. Nixon', 'George H. W. Bush',\n",
       "       'Franklin D. Roosevelt', 'John F. Kennedy', 'George W. Bush',\n",
       "       'Bill Clinton', 'James Madison', 'Barack Obama',\n",
       "       'James A. Garfield', 'Rutherford B. Hayes', 'Franklin Pierce',\n",
       "       'Abraham Lincoln', 'John Tyler', 'William Harrison',\n",
       "       'Benjamin Harrison', 'Andrew Johnson', 'Herbert Hoover',\n",
       "       'James K. Polk', 'James Buchanan', 'Joe Biden', 'Donald Trump',\n",
       "       'William Taft', 'Theodore Roosevelt', 'Martin Van Buren',\n",
       "       'Zachary Taylor', 'Millard Fillmore'], dtype=object)"
      ]
     },
     "execution_count": 29,
     "metadata": {},
     "output_type": "execute_result"
    }
   ],
   "source": [
    "speeches_tokens = speeches_tokens.reset_index()\n",
    "speeches_tokens.author.unique()"
   ]
  },
  {
   "cell_type": "code",
   "execution_count": 31,
   "metadata": {},
   "outputs": [],
   "source": [
    "speechTitles = list(speeches_tokens.book.unique())\n",
    "noDebates = [title for title in speechTitles if 'debate' not in title.lower()]\n",
    "speeches_tokens = speeches_tokens[speeches_tokens['book'].isin(noDebates)]"
   ]
  },
  {
   "cell_type": "code",
   "execution_count": 32,
   "metadata": {},
   "outputs": [
    {
     "data": {
      "text/html": [
       "<div>\n",
       "<style scoped>\n",
       "    .dataframe tbody tr th:only-of-type {\n",
       "        vertical-align: middle;\n",
       "    }\n",
       "\n",
       "    .dataframe tbody tr th {\n",
       "        vertical-align: top;\n",
       "    }\n",
       "\n",
       "    .dataframe thead th {\n",
       "        text-align: right;\n",
       "    }\n",
       "</style>\n",
       "<table border=\"1\" class=\"dataframe\">\n",
       "  <thead>\n",
       "    <tr style=\"text-align: right;\">\n",
       "      <th></th>\n",
       "      <th></th>\n",
       "      <th></th>\n",
       "      <th></th>\n",
       "      <th>pos</th>\n",
       "      <th>token_str</th>\n",
       "      <th>term_str</th>\n",
       "    </tr>\n",
       "    <tr>\n",
       "      <th>author</th>\n",
       "      <th>book</th>\n",
       "      <th>sent</th>\n",
       "      <th>token_num</th>\n",
       "      <th></th>\n",
       "      <th></th>\n",
       "      <th></th>\n",
       "    </tr>\n",
       "  </thead>\n",
       "  <tbody>\n",
       "    <tr>\n",
       "      <th rowspan=\"5\" valign=\"top\">Ronald Reagan</th>\n",
       "      <th rowspan=\"5\" valign=\"top\">Remarks at the Republican National Convention</th>\n",
       "      <th>0</th>\n",
       "      <th>0</th>\n",
       "      <td>NN</td>\n",
       "      <td>Mr</td>\n",
       "      <td>mr</td>\n",
       "    </tr>\n",
       "    <tr>\n",
       "      <th rowspan=\"2\" valign=\"top\">1</th>\n",
       "      <th>0</th>\n",
       "      <td>NNP</td>\n",
       "      <td>President,</td>\n",
       "      <td>president</td>\n",
       "    </tr>\n",
       "    <tr>\n",
       "      <th>1</th>\n",
       "      <td>NNP</td>\n",
       "      <td>Mrs</td>\n",
       "      <td>mrs</td>\n",
       "    </tr>\n",
       "    <tr>\n",
       "      <th rowspan=\"2\" valign=\"top\">2</th>\n",
       "      <th>0</th>\n",
       "      <td>NNP</td>\n",
       "      <td>Ford,</td>\n",
       "      <td>ford</td>\n",
       "    </tr>\n",
       "    <tr>\n",
       "      <th>1</th>\n",
       "      <td>NNP</td>\n",
       "      <td>Mr</td>\n",
       "      <td>mr</td>\n",
       "    </tr>\n",
       "  </tbody>\n",
       "</table>\n",
       "</div>"
      ],
      "text/plain": [
       "                                                                             pos  \\\n",
       "author        book                                           sent token_num        \n",
       "Ronald Reagan  Remarks at the Republican National Convention 0    0           NN   \n",
       "                                                             1    0          NNP   \n",
       "                                                                  1          NNP   \n",
       "                                                             2    0          NNP   \n",
       "                                                                  1          NNP   \n",
       "\n",
       "                                                                              token_str  \\\n",
       "author        book                                           sent token_num               \n",
       "Ronald Reagan  Remarks at the Republican National Convention 0    0                  Mr   \n",
       "                                                             1    0          President,   \n",
       "                                                                  1                 Mrs   \n",
       "                                                             2    0               Ford,   \n",
       "                                                                  1                  Mr   \n",
       "\n",
       "                                                                              term_str  \n",
       "author        book                                           sent token_num             \n",
       "Ronald Reagan  Remarks at the Republican National Convention 0    0                 mr  \n",
       "                                                             1    0          president  \n",
       "                                                                  1                mrs  \n",
       "                                                             2    0               ford  \n",
       "                                                                  1                 mr  "
      ]
     },
     "execution_count": 32,
     "metadata": {},
     "output_type": "execute_result"
    }
   ],
   "source": [
    "presidents = ['Jimmy Carter', 'Ronald Reagan',\n",
    "       'Richard M. Nixon', 'George H. W. Bush',\n",
    "       'Franklin D. Roosevelt', 'John F. Kennedy', 'George W. Bush',\n",
    "       'Bill Clinton', 'Barack Obama', 'Donald Trump']\n",
    "speeches_tokens = speeches_tokens[speeches_tokens['author'].isin(presidents)]\n",
    "speeches_tokens = speeches_tokens.set_index(['author','book','sent','token_num'])\n",
    "speeches_tokens.head()"
   ]
  },
  {
   "cell_type": "code",
   "execution_count": 33,
   "metadata": {},
   "outputs": [
    {
     "name": "stdout",
     "output_type": "stream",
     "text": [
      "(1266645, 3) (780437, 3)\n"
     ]
    },
    {
     "data": {
      "text/html": [
       "<div>\n",
       "<style scoped>\n",
       "    .dataframe tbody tr th:only-of-type {\n",
       "        vertical-align: middle;\n",
       "    }\n",
       "\n",
       "    .dataframe tbody tr th {\n",
       "        vertical-align: top;\n",
       "    }\n",
       "\n",
       "    .dataframe thead th {\n",
       "        text-align: right;\n",
       "    }\n",
       "</style>\n",
       "<table border=\"1\" class=\"dataframe\">\n",
       "  <thead>\n",
       "    <tr style=\"text-align: right;\">\n",
       "      <th></th>\n",
       "      <th></th>\n",
       "      <th></th>\n",
       "      <th></th>\n",
       "      <th>pos</th>\n",
       "      <th>token_str</th>\n",
       "      <th>term_str</th>\n",
       "    </tr>\n",
       "    <tr>\n",
       "      <th>author</th>\n",
       "      <th>book</th>\n",
       "      <th>sent</th>\n",
       "      <th>token_num</th>\n",
       "      <th></th>\n",
       "      <th></th>\n",
       "      <th></th>\n",
       "    </tr>\n",
       "  </thead>\n",
       "  <tbody>\n",
       "    <tr>\n",
       "      <th rowspan=\"5\" valign=\"top\">God</th>\n",
       "      <th rowspan=\"5\" valign=\"top\">Genesis</th>\n",
       "      <th rowspan=\"5\" valign=\"top\">0</th>\n",
       "      <th>0</th>\n",
       "      <td>IN</td>\n",
       "      <td>In</td>\n",
       "      <td>in</td>\n",
       "    </tr>\n",
       "    <tr>\n",
       "      <th>1</th>\n",
       "      <td>DT</td>\n",
       "      <td>the</td>\n",
       "      <td>the</td>\n",
       "    </tr>\n",
       "    <tr>\n",
       "      <th>2</th>\n",
       "      <td>NN</td>\n",
       "      <td>beginning</td>\n",
       "      <td>beginning</td>\n",
       "    </tr>\n",
       "    <tr>\n",
       "      <th>3</th>\n",
       "      <td>NNP</td>\n",
       "      <td>God</td>\n",
       "      <td>god</td>\n",
       "    </tr>\n",
       "    <tr>\n",
       "      <th>4</th>\n",
       "      <td>VBD</td>\n",
       "      <td>created</td>\n",
       "      <td>created</td>\n",
       "    </tr>\n",
       "  </tbody>\n",
       "</table>\n",
       "</div>"
      ],
      "text/plain": [
       "                               pos  token_str   term_str\n",
       "author book    sent token_num                           \n",
       "God    Genesis 0    0           IN         In         in\n",
       "                    1           DT        the        the\n",
       "                    2           NN  beginning  beginning\n",
       "                    3          NNP        God        god\n",
       "                    4          VBD    created    created"
      ]
     },
     "execution_count": 33,
     "metadata": {},
     "output_type": "execute_result"
    }
   ],
   "source": [
    "print(speeches_tokens.shape,bible_tokens.shape)\n",
    "bible_tokens.head()"
   ]
  },
  {
   "cell_type": "code",
   "execution_count": 34,
   "metadata": {
    "id": "ZaLG308qAp5B"
   },
   "outputs": [
    {
     "data": {
      "text/html": [
       "<div>\n",
       "<style scoped>\n",
       "    .dataframe tbody tr th:only-of-type {\n",
       "        vertical-align: middle;\n",
       "    }\n",
       "\n",
       "    .dataframe tbody tr th {\n",
       "        vertical-align: top;\n",
       "    }\n",
       "\n",
       "    .dataframe thead th {\n",
       "        text-align: right;\n",
       "    }\n",
       "</style>\n",
       "<table border=\"1\" class=\"dataframe\">\n",
       "  <thead>\n",
       "    <tr style=\"text-align: right;\">\n",
       "      <th></th>\n",
       "      <th></th>\n",
       "      <th></th>\n",
       "      <th></th>\n",
       "      <th>pos</th>\n",
       "      <th>token_str</th>\n",
       "      <th>term_str</th>\n",
       "    </tr>\n",
       "    <tr>\n",
       "      <th>author</th>\n",
       "      <th>book</th>\n",
       "      <th>sent</th>\n",
       "      <th>token_num</th>\n",
       "      <th></th>\n",
       "      <th></th>\n",
       "      <th></th>\n",
       "    </tr>\n",
       "  </thead>\n",
       "  <tbody>\n",
       "    <tr>\n",
       "      <th rowspan=\"5\" valign=\"top\">Ronald Reagan</th>\n",
       "      <th rowspan=\"5\" valign=\"top\">Remarks at the Republican National Convention</th>\n",
       "      <th>0</th>\n",
       "      <th>0</th>\n",
       "      <td>NN</td>\n",
       "      <td>Mr</td>\n",
       "      <td>mr</td>\n",
       "    </tr>\n",
       "    <tr>\n",
       "      <th rowspan=\"2\" valign=\"top\">1</th>\n",
       "      <th>0</th>\n",
       "      <td>NNP</td>\n",
       "      <td>President,</td>\n",
       "      <td>president</td>\n",
       "    </tr>\n",
       "    <tr>\n",
       "      <th>1</th>\n",
       "      <td>NNP</td>\n",
       "      <td>Mrs</td>\n",
       "      <td>mrs</td>\n",
       "    </tr>\n",
       "    <tr>\n",
       "      <th rowspan=\"2\" valign=\"top\">2</th>\n",
       "      <th>0</th>\n",
       "      <td>NNP</td>\n",
       "      <td>Ford,</td>\n",
       "      <td>ford</td>\n",
       "    </tr>\n",
       "    <tr>\n",
       "      <th>1</th>\n",
       "      <td>NNP</td>\n",
       "      <td>Mr</td>\n",
       "      <td>mr</td>\n",
       "    </tr>\n",
       "  </tbody>\n",
       "</table>\n",
       "</div>"
      ],
      "text/plain": [
       "                                                                             pos  \\\n",
       "author        book                                           sent token_num        \n",
       "Ronald Reagan  Remarks at the Republican National Convention 0    0           NN   \n",
       "                                                             1    0          NNP   \n",
       "                                                                  1          NNP   \n",
       "                                                             2    0          NNP   \n",
       "                                                                  1          NNP   \n",
       "\n",
       "                                                                              token_str  \\\n",
       "author        book                                           sent token_num               \n",
       "Ronald Reagan  Remarks at the Republican National Convention 0    0                  Mr   \n",
       "                                                             1    0          President,   \n",
       "                                                                  1                 Mrs   \n",
       "                                                             2    0               Ford,   \n",
       "                                                                  1                  Mr   \n",
       "\n",
       "                                                                              term_str  \n",
       "author        book                                           sent token_num             \n",
       "Ronald Reagan  Remarks at the Republican National Convention 0    0                 mr  \n",
       "                                                             1    0          president  \n",
       "                                                                  1                mrs  \n",
       "                                                             2    0               ford  \n",
       "                                                                  1                 mr  "
      ]
     },
     "execution_count": 34,
     "metadata": {},
     "output_type": "execute_result"
    }
   ],
   "source": [
    "TOKENS_all = pd.concat([speeches_tokens, bible_tokens],axis=0)\n",
    "TOKENS_all.head()"
   ]
  },
  {
   "cell_type": "code",
   "execution_count": null,
   "metadata": {},
   "outputs": [],
   "source": []
  },
  {
   "cell_type": "code",
   "execution_count": null,
   "metadata": {
    "id": "AQqmespTb316"
   },
   "outputs": [],
   "source": []
  }
 ],
 "metadata": {
  "colab": {
   "collapsed_sections": [],
   "name": "TOKENS.ipynb",
   "provenance": [],
   "toc_visible": true
  },
  "kernelspec": {
   "display_name": "Python 3",
   "language": "python",
   "name": "python3"
  },
  "language_info": {
   "codemirror_mode": {
    "name": "ipython",
    "version": 3
   },
   "file_extension": ".py",
   "mimetype": "text/x-python",
   "name": "python",
   "nbconvert_exporter": "python",
   "pygments_lexer": "ipython3",
   "version": "3.7.3"
  }
 },
 "nbformat": 4,
 "nbformat_minor": 1
}
